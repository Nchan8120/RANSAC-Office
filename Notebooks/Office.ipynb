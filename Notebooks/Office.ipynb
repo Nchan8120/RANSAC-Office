{
 "cells": [
  {
   "cell_type": "markdown",
   "id": "b94bc079",
   "metadata": {},
   "source": [
    "Working on Kinectrics Data"
   ]
  },
  {
   "cell_type": "code",
   "execution_count": 2,
   "id": "927b1d93",
   "metadata": {},
   "outputs": [],
   "source": [
    "#%% 1. Library setup\n",
    "import numpy as np\n",
    "import open3d as o3d\n",
    "import matplotlib.pyplot as plt\n",
    "import copy"
   ]
  },
  {
   "cell_type": "code",
   "execution_count": 3,
   "id": "c5819470",
   "metadata": {},
   "outputs": [],
   "source": [
    "DATANAME2 = \"OfficeTest-Mesh_00.ply\"\n",
    "pcd = o3d.io.read_point_cloud(\"../Data/\" + DATANAME2)"
   ]
  },
  {
   "cell_type": "code",
   "execution_count": 4,
   "id": "a8514abf",
   "metadata": {},
   "outputs": [
    {
     "name": "stdout",
     "output_type": "stream",
     "text": [
      "PointCloud with 2499875 points.\n",
      "Number of points: 2499875\n",
      "First 5 points:\n",
      " [[ 6.375779 -7.119489 -1.878987]\n",
      " [ 6.371648 -7.118566 -1.881008]\n",
      " [ 6.371648 -7.119278 -1.878987]\n",
      " [ 6.375779 -7.118566 -1.88167 ]\n",
      " [ 6.379911 -7.119558 -1.878987]]\n"
     ]
    }
   ],
   "source": [
    "# Print basic info\n",
    "print(pcd)\n",
    "\n",
    "# Print number of points\n",
    "print(\"Number of points:\", np.asarray(pcd.points).shape[0])\n",
    "\n",
    "# Show the first few points\n",
    "print(\"First 5 points:\\n\", np.asarray(pcd.points)[:5])"
   ]
  },
  {
   "cell_type": "code",
   "execution_count": 5,
   "id": "dcdad31d",
   "metadata": {},
   "outputs": [
    {
     "name": "stdout",
     "output_type": "stream",
     "text": [
      "pcd_center: [ 4.5261486  -8.87957326 -1.13912606]\n",
      "Type: <class 'numpy.ndarray'>\n"
     ]
    }
   ],
   "source": [
    "# shift point cloud to bypasss large coordinates approxximation\n",
    "pcd_center = pcd.get_center()\n",
    "print(\"pcd_center:\", pcd_center)\n",
    "print(\"Type:\", type(pcd_center))"
   ]
  },
  {
   "cell_type": "code",
   "execution_count": 6,
   "id": "1bc14ba0",
   "metadata": {},
   "outputs": [
    {
     "data": {
      "text/plain": [
       "PointCloud with 2499875 points."
      ]
     },
     "execution_count": 6,
     "metadata": {},
     "output_type": "execute_result"
    }
   ],
   "source": [
    "pcd.translate(-pcd_center)"
   ]
  },
  {
   "cell_type": "code",
   "execution_count": 7,
   "id": "f22ef7d9",
   "metadata": {},
   "outputs": [],
   "source": [
    "o3d.visualization.draw_geometries([pcd])"
   ]
  },
  {
   "cell_type": "code",
   "execution_count": 8,
   "id": "ac6dc09b",
   "metadata": {},
   "outputs": [],
   "source": [
    "# Random sampling\n",
    "retained_ratio = 0.2 # keep 20% of the points\n",
    "sampled_pcd = pcd.random_down_sample(retained_ratio)"
   ]
  },
  {
   "cell_type": "code",
   "execution_count": 9,
   "id": "051ee369",
   "metadata": {},
   "outputs": [],
   "source": [
    "o3d.visualization.draw_geometries([sampled_pcd], window_name = \"Random Sampling\")"
   ]
  },
  {
   "cell_type": "code",
   "execution_count": 10,
   "id": "e2d70673",
   "metadata": {},
   "outputs": [],
   "source": [
    "# outlier removal\n",
    "nn = 16 # How many neightbors are considered to calculate the averate distance for a given point\n",
    "std_multiplier = 10 # threshold based on standard deviation. the lower the number, the more aggressive the filter will be\n",
    "\n",
    "filtered_pcd, filtered_idx = pcd.remove_statistical_outlier(nn, std_multiplier)"
   ]
  },
  {
   "cell_type": "code",
   "execution_count": 11,
   "id": "c811fa45",
   "metadata": {},
   "outputs": [],
   "source": [
    "# colour outliers in red\n",
    "outliers = pcd.select_by_index(filtered_idx, invert=True)\n",
    "outliers.paint_uniform_color([1, 0, 0])\n",
    "o3d.visualization.draw_geometries([filtered_pcd, outliers])"
   ]
  },
  {
   "cell_type": "code",
   "execution_count": 12,
   "id": "57d0609c",
   "metadata": {},
   "outputs": [],
   "source": [
    "# voxel sampling\n",
    "voxel_size = 0.05\n",
    "pcd_downsampled = filtered_pcd.voxel_down_sample(voxel_size = voxel_size)"
   ]
  },
  {
   "cell_type": "code",
   "execution_count": 13,
   "id": "c3ddd653",
   "metadata": {},
   "outputs": [],
   "source": [
    "o3d.visualization.draw_geometries([pcd_downsampled])"
   ]
  },
  {
   "cell_type": "code",
   "execution_count": 14,
   "id": "3f352f08",
   "metadata": {},
   "outputs": [],
   "source": [
    "#normals extraction\n",
    "nn_distance = 0.05"
   ]
  },
  {
   "cell_type": "code",
   "execution_count": 15,
   "id": "7f5ef8de",
   "metadata": {},
   "outputs": [],
   "source": [
    "radius_normals=nn_distance*4\n",
    "pcd_downsampled.estimate_normals(search_param=o3d.geometry.KDTreeSearchParamHybrid(radius=radius_normals, max_nn=16), fast_normal_computation=True)"
   ]
  },
  {
   "cell_type": "code",
   "execution_count": 16,
   "id": "f3a89932",
   "metadata": {},
   "outputs": [],
   "source": [
    "pcd_downsampled.paint_uniform_color([0.6, 0.6, 0.6])\n",
    "o3d.visualization.draw_geometries([pcd_downsampled,outliers])"
   ]
  },
  {
   "cell_type": "code",
   "execution_count": 17,
   "id": "1a888c85",
   "metadata": {},
   "outputs": [],
   "source": [
    "# RANSAC\n",
    "nn_distance = np.mean(pcd.compute_nearest_neighbor_distance())"
   ]
  },
  {
   "cell_type": "code",
   "execution_count": 18,
   "id": "036ca81a",
   "metadata": {},
   "outputs": [],
   "source": [
    "distance_threshold = 0.1 # max distance a point can be from the plane model, and still be an inlier\n",
    "ransac_n = 3 # number of points to sample for generating a plane model\n",
    "num_iterations = 1000 # number of iterations"
   ]
  },
  {
   "cell_type": "code",
   "execution_count": 19,
   "id": "93c27cc5",
   "metadata": {},
   "outputs": [
    {
     "name": "stdout",
     "output_type": "stream",
     "text": [
      "Plane equation: 0.01x + 0.00y + 1.00z + 0.70 = 0\n"
     ]
    }
   ],
   "source": [
    "plane_model, inliers = pcd.segment_plane(distance_threshold=distance_threshold,ransac_n=3,num_iterations=1000)\n",
    "[a, b, c, d] = plane_model\n",
    "print(f\"Plane equation: {a:.2f}x + {b:.2f}y + {c:.2f}z + {d:.2f} = 0\")"
   ]
  },
  {
   "cell_type": "code",
   "execution_count": 20,
   "id": "be3755df",
   "metadata": {},
   "outputs": [],
   "source": [
    "inlier_cloud = pcd.select_by_index(inliers)\n",
    "outlier_cloud = pcd.select_by_index(inliers, invert=True)\n",
    "\n",
    "#Paint the clouds\n",
    "inlier_cloud.paint_uniform_color([1.0, 0, 0])\n",
    "outlier_cloud.paint_uniform_color([0.6, 0.6, 0.6])\n",
    "\n",
    "#Visualize the inliers and outliers\n",
    "o3d.visualization.draw_geometries([inlier_cloud, outlier_cloud])"
   ]
  },
  {
   "cell_type": "code",
   "execution_count": 21,
   "id": "27623a4e",
   "metadata": {},
   "outputs": [],
   "source": [
    "# multi order RANSAC\n",
    "# Empty dictionary to hold results of iterations\n",
    "segment_models={} # Plane parameters\n",
    "segments={} # Planar regions\n",
    "max_plane_idx=10"
   ]
  },
  {
   "cell_type": "code",
   "execution_count": 22,
   "id": "940c012b",
   "metadata": {},
   "outputs": [
    {
     "name": "stdout",
     "output_type": "stream",
     "text": [
      "pass 0 / 10 done.\n",
      "pass 1 / 10 done.\n",
      "pass 2 / 10 done.\n",
      "pass 3 / 10 done.\n",
      "pass 4 / 10 done.\n",
      "pass 5 / 10 done.\n",
      "pass 6 / 10 done.\n",
      "pass 7 / 10 done.\n",
      "pass 8 / 10 done.\n",
      "pass 9 / 10 done.\n"
     ]
    }
   ],
   "source": [
    "# seperate inliers from outliers. Store inliers in segments dictionary.\n",
    "rest=pcd\n",
    "for i in range(max_plane_idx):\n",
    "    colors = plt.get_cmap(\"tab20\")(i)\n",
    "    segment_models[i], inliers = rest.segment_plane(\n",
    "    distance_threshold=0.1,ransac_n=3,num_iterations=1000)\n",
    "    segments[i]=rest.select_by_index(inliers)\n",
    "    segments[i].paint_uniform_color(list(colors[:3]))\n",
    "    rest = rest.select_by_index(inliers, invert=True)\n",
    "    print(\"pass\",i,\"/\",max_plane_idx,\"done.\")"
   ]
  },
  {
   "cell_type": "code",
   "execution_count": 23,
   "id": "af9513cf",
   "metadata": {},
   "outputs": [],
   "source": [
    "o3d.visualization.draw_geometries([segments[i] for i in range(max_plane_idx)]+[rest])"
   ]
  },
  {
   "cell_type": "code",
   "execution_count": 24,
   "id": "ca2787dd",
   "metadata": {},
   "outputs": [],
   "source": [
    "# DBSCAN\n",
    "epsilon = 0.3\n",
    "min_cluster_points = 35"
   ]
  },
  {
   "cell_type": "code",
   "execution_count": 25,
   "id": "b8739fac",
   "metadata": {},
   "outputs": [
    {
     "name": "stderr",
     "output_type": "stream",
     "text": [
      "/var/folders/37/jl4db58d37v4cx7r8qrqx9vw0000gn/T/ipykernel_35937/184731682.py:9: DeprecationWarning: Conversion of an array with ndim > 0 to a scalar is deprecated, and will error in future. Ensure you extract a single element from your array before performing this operation. (Deprecated NumPy 1.25.)\n",
      "  best_candidate=int(np.unique(labels)[np.where(candidates== np.max(candidates))[0]])\n"
     ]
    },
    {
     "name": "stdout",
     "output_type": "stream",
     "text": [
      "pass 0 / 10 done.\n",
      "pass 1 / 10 done.\n",
      "pass 2 / 10 done.\n",
      "pass 3 / 10 done.\n",
      "pass 4 / 10 done.\n",
      "pass 5 / 10 done.\n",
      "pass 6 / 10 done.\n",
      "pass 7 / 10 done.\n",
      "pass 8 / 10 done.\n",
      "pass 9 / 10 done.\n"
     ]
    }
   ],
   "source": [
    "rest=sampled_pcd\n",
    "for i in range(max_plane_idx):\n",
    "    colors = plt.get_cmap(\"tab20\")(i)\n",
    "    segment_models[i], inliers = rest.segment_plane(\n",
    "    distance_threshold=0.1,ransac_n=3,num_iterations=1000)\n",
    "    segments[i]=rest.select_by_index(inliers)\n",
    "    labels = np.array(segments[i].cluster_dbscan(eps=epsilon, min_points=min_cluster_points)) # DBSCAN clustering\n",
    "    candidates=[len(np.where(labels==j)[0]) for j in np.unique(labels)]\n",
    "    best_candidate=int(np.unique(labels)[np.where(candidates== np.max(candidates))[0]])\n",
    "    rest = rest.select_by_index(inliers, invert=True) + segments[i].select_by_index(list(np.where(labels!=best_candidate)[0]))\n",
    "    segments[i]=segments[i].select_by_index(list(np.where(labels== best_candidate)[0]))\n",
    "    segments[i].paint_uniform_color(list(colors[:3]))\n",
    "    print(\"pass\",i,\"/\",max_plane_idx,\"done.\")\n"
   ]
  },
  {
   "cell_type": "code",
   "execution_count": 26,
   "id": "c7dded33",
   "metadata": {},
   "outputs": [],
   "source": [
    "o3d.visualization.draw_geometries([segments[i] for i in range(max_plane_idx)]+[rest])"
   ]
  },
  {
   "cell_type": "code",
   "execution_count": 27,
   "id": "c34e60c1",
   "metadata": {},
   "outputs": [],
   "source": [
    "o3d.visualization.draw_geometries([rest])"
   ]
  },
  {
   "cell_type": "code",
   "execution_count": 28,
   "id": "a60bbddb",
   "metadata": {},
   "outputs": [],
   "source": [
    "labels = np.array(sampled_pcd.cluster_dbscan(eps=0.1, min_points=10)) # -1 is noise. 0-n are the clusters"
   ]
  },
  {
   "cell_type": "code",
   "execution_count": 29,
   "id": "3bf9faaa",
   "metadata": {},
   "outputs": [],
   "source": [
    "# Color DBSCAN clusters\n",
    "max_label = labels.max()\n",
    "colors = plt.get_cmap(\"tab20\")(labels / (max_label if max_label > 0 else 1))\n",
    "colors[labels < 0] = 0  # Noise points in black\n",
    "rest.colors = o3d.utility.Vector3dVector(colors[:, :3])\n",
    "o3d.visualization.draw_geometries([rest], window_name=\"DBSCAN Clusters\")\n"
   ]
  },
  {
   "cell_type": "code",
   "execution_count": 30,
   "id": "f47f988b",
   "metadata": {},
   "outputs": [],
   "source": [
    "voxel_size = 0.5\n"
   ]
  },
  {
   "cell_type": "code",
   "execution_count": 31,
   "id": "71b767a2",
   "metadata": {},
   "outputs": [
    {
     "name": "stdout",
     "output_type": "stream",
     "text": [
      "Point cloud bounds: [-1.2162536  -2.10670774 -0.74399294] [1.9644834  1.76251926 1.23080706]\n"
     ]
    }
   ],
   "source": [
    "# Calculate the bounds of the point cloud\n",
    "min_bound = pcd.get_min_bound()\n",
    "max_bound = pcd.get_max_bound()\n",
    "print(\"Point cloud bounds:\", min_bound, max_bound)"
   ]
  },
  {
   "cell_type": "code",
   "execution_count": 32,
   "id": "7d9e1bd2",
   "metadata": {},
   "outputs": [],
   "source": [
    "# Concatenate all RANSAC segments\n",
    "pcd_ransac = o3d.geometry.PointCloud()\n",
    "for seg in segments.values():\n",
    "    pcd_ransac += seg"
   ]
  },
  {
   "cell_type": "code",
   "execution_count": 33,
   "id": "f3229c68",
   "metadata": {},
   "outputs": [],
   "source": [
    "# Create voxel grids\n",
    "voxel_grid_structural = o3d.geometry.VoxelGrid.create_from_point_cloud(pcd_ransac, voxel_size=voxel_size)\n",
    "rest.paint_uniform_color([0.1, 0.1, 0.8])\n",
    "voxel_grid_clutter = o3d.geometry.VoxelGrid.create_from_point_cloud(rest, voxel_size=voxel_size)\n",
    "\n",
    "o3d.visualization.draw_geometries([voxel_grid_structural, voxel_grid_clutter], window_name=\"Voxel Grids\")\n"
   ]
  },
  {
   "cell_type": "code",
   "execution_count": 34,
   "id": "7341247b",
   "metadata": {},
   "outputs": [],
   "source": [
    "# Function: Fit voxel grid as boolean array\n",
    "def fit_voxel_grid(points, voxel_size, min_b=False, max_b=False):\n",
    "    if type(min_b) == bool:\n",
    "        min_coords = np.min(points, axis=0)\n",
    "        max_coords = np.max(points, axis=0)\n",
    "    else:\n",
    "        min_coords = min_b\n",
    "        max_coords = max_b\n",
    "    grid_dims = np.ceil((max_coords - min_coords) / voxel_size).astype(int)\n",
    "    voxel_grid = np.zeros(grid_dims, dtype=bool)\n",
    "    indices = ((points - min_coords) / voxel_size).astype(int)\n",
    "    indices = np.clip(indices, 0, grid_dims - 1)\n",
    "    voxel_grid[indices[:,0], indices[:,1], indices[:,2]] = True\n",
    "    return voxel_grid, indices"
   ]
  },
  {
   "cell_type": "code",
   "execution_count": 35,
   "id": "13cffea0",
   "metadata": {},
   "outputs": [],
   "source": [
    "# Fit voxel grids for RANSAC segments and remaining points\n",
    "min_bound = pcd.get_min_bound()\n",
    "max_bound = pcd.get_max_bound()\n",
    "\n",
    "ransac_voxels, idx_ransac = fit_voxel_grid(np.asarray(pcd_ransac.points), voxel_size, min_bound, max_bound)\n",
    "rest_voxels, idx_rest = fit_voxel_grid(np.asarray(rest.points), voxel_size, min_bound, max_bound)\n",
    "filled_ransac = np.transpose(np.nonzero(ransac_voxels))\n",
    "filled_rest = np.transpose(np.nonzero(rest_voxels))"
   ]
  },
  {
   "cell_type": "code",
   "execution_count": 36,
   "id": "dfb053d0",
   "metadata": {},
   "outputs": [],
   "source": [
    "# Compute empty voxels\n",
    "total = pcd_ransac + rest\n",
    "total_voxels, _ = fit_voxel_grid(np.asarray(total.points), voxel_size, min_bound, max_bound)\n",
    "empty_indices = np.transpose(np.nonzero(~total_voxels))"
   ]
  },
  {
   "cell_type": "code",
   "execution_count": 37,
   "id": "daddd118",
   "metadata": {},
   "outputs": [
    {
     "name": "stdout",
     "output_type": "stream",
     "text": [
      "Saved OfficeSegments.xyz\n"
     ]
    }
   ],
   "source": [
    "# Export RANSAC segments + rest\n",
    "xyz_segments = []\n",
    "for idx, seg in segments.items():\n",
    "    pts = np.asarray(seg.points)\n",
    "    N = len(pts)\n",
    "    labels = np.full((N,1), idx)\n",
    "    xyz_segments.append(np.hstack((pts, labels)))\n",
    "\n",
    "rest_labels = np.full((len(rest.points), 1), len(segments))\n",
    "xyz_segments.append(np.hstack((np.asarray(rest.points), rest_labels)))\n",
    "\n",
    "np.savetxt(\"../Results/OfficeSegments.xyz\", np.concatenate(xyz_segments), delimiter=\";\", fmt=\"%1.9f\")\n",
    "print(\"Saved OfficeSegments.xyz\")"
   ]
  },
  {
   "cell_type": "code",
   "execution_count": 38,
   "id": "282a192c",
   "metadata": {},
   "outputs": [],
   "source": [
    "# Voxel Modeling Export\n",
    "def cube(c, s, compteur=0):\n",
    "    v1 = c + s/2*np.array([-1,-1,1])\n",
    "    v2 = c + s/2*np.array([1,-1,1])\n",
    "    v3 = c + s/2*np.array([-1,1,1])\n",
    "    v4 = c + s/2*np.array([1,1,1])\n",
    "    v5 = c + s/2*np.array([-1,1,-1])\n",
    "    v6 = c + s/2*np.array([1,1,-1])\n",
    "    v7 = c + s/2*np.array([-1,-1,-1])\n",
    "    v8 = c + s/2*np.array([1,-1,-1])\n",
    "    vcube = [v1,v2,v3,v4,v5,v6,v7,v8]\n",
    "    vert = np.hstack((np.full((8,1),'v'), np.array(vcube)))\n",
    "    faces = np.array([[1,2,3],[3,2,4],[3,4,5],[5,4,6],\n",
    "                      [5,6,7],[7,6,8],[7,8,1],[1,8,2],\n",
    "                      [2,8,4],[4,8,6],[7,1,5],[5,1,3]]) + compteur*8\n",
    "    faces = np.hstack((np.full((12,1),'f'), faces))\n",
    "    return np.append(vert, faces, axis=0)\n",
    "\n",
    "def voxel_modelling(filename, indices, voxel_size):\n",
    "    voxel_assembly = []\n",
    "    with open(filename, \"w\") as f:\n",
    "        for cpt, idx in enumerate(indices):\n",
    "            voxel = cube(idx, voxel_size, cpt)\n",
    "            f.write(f\"o voxel_{cpt}\\n\")\n",
    "            np.savetxt(f, voxel, fmt='%s')\n",
    "            voxel_assembly.append(voxel)\n",
    "    return voxel_assembly"
   ]
  },
  {
   "cell_type": "code",
   "execution_count": 39,
   "id": "4e8f4fe9",
   "metadata": {},
   "outputs": [
    {
     "name": "stdout",
     "output_type": "stream",
     "text": [
      "Voxel models exported successfully.\n"
     ]
    }
   ],
   "source": [
    "v_ransac = voxel_modelling(\"../Results/Office_RANSAC_Vox.obj\", filled_ransac, 1)\n",
    "v_rest = voxel_modelling(\"../Results/Office_Rest_Vox.obj\", filled_rest, 1)\n",
    "v_empty = voxel_modelling(\"../Results/Office_Empty_Vox.obj\", empty_indices, 1)\n",
    "\n",
    "print(\"Voxel models exported successfully.\")"
   ]
  }
 ],
 "metadata": {
  "kernelspec": {
   "display_name": "ML-1",
   "language": "python",
   "name": "python3"
  },
  "language_info": {
   "codemirror_mode": {
    "name": "ipython",
    "version": 3
   },
   "file_extension": ".py",
   "mimetype": "text/x-python",
   "name": "python",
   "nbconvert_exporter": "python",
   "pygments_lexer": "ipython3",
   "version": "3.13.1"
  }
 },
 "nbformat": 4,
 "nbformat_minor": 5
}
